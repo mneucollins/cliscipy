{
 "cells": [
  {
   "cell_type": "code",
   "execution_count": 6,
   "id": "2c09e860-7a44-45f6-8f11-c496891afa1f",
   "metadata": {},
   "outputs": [],
   "source": [
    "from arcgis.gis import GIS\n",
    "from IPython.display import display "
   ]
  },
  {
   "cell_type": "code",
   "execution_count": 8,
   "id": "87c66022-6282-4bc6-a43e-7c567af60fa1",
   "metadata": {},
   "outputs": [],
   "source": [
    "gis = GIS(\"https://www.arcgis.com\", \"mneucollins\", \"TerraToesTango2\")"
   ]
  },
  {
   "cell_type": "code",
   "execution_count": 9,
   "id": "01f58c96-8a76-4a34-835d-317003d98cb4",
   "metadata": {},
   "outputs": [
    {
     "ename": "RuntimeError",
     "evalue": "to_json not implemented for this type of object: datetime.datetime(1900, 1, 1, 0, 0)",
     "output_type": "error",
     "traceback": [
      "\u001b[0;31m---------------------------------------------------------------------------\u001b[0m\n\u001b[0;31mRuntimeError\u001b[0m                              Traceback (most recent call last)",
      "File \u001b[0;34m/opt/miniconda3/lib/python3.8/site-packages/IPython/core/interactiveshell.py\u001b[0m, in \u001b[0;32mrun_code\u001b[0m:\nLine \u001b[0;34m3444\u001b[0m:  exec(code_obj, \u001b[36mself\u001b[39;49;00m.user_global_ns, \u001b[36mself\u001b[39;49;00m.user_ns)\n",
      "In  \u001b[0;34m[9]\u001b[0m:\nLine \u001b[0;34m1\u001b[0m:     \u001b[36mmap\u001b[39;49;00m = gis.map(\u001b[33m\"\u001b[39;49;00m\u001b[33mChennai\u001b[39;49;00m\u001b[33m\"\u001b[39;49;00m, zoomlevel=\u001b[34m8\u001b[39;49;00m)\n",
      "File \u001b[0;34m/opt/miniconda3/lib/python3.8/site-packages/arcgis/gis/__init__.py\u001b[0m, in \u001b[0;32mmap\u001b[0m:\nLine \u001b[0;34m1224\u001b[0m:  mapwidget = MapView(gis=\u001b[36mself\u001b[39;49;00m, mode=mode)\n",
      "File \u001b[0;34m/opt/miniconda3/lib/python3.8/site-packages/arcgis/widgets/_mapview/_mapview.py\u001b[0m, in \u001b[0;32m__init__\u001b[0m:\nLine \u001b[0;34m863\u001b[0m:   \u001b[36msuper\u001b[39;49;00m(MapView, \u001b[36mself\u001b[39;49;00m).\u001b[32m__init__\u001b[39;49;00m(**kwargs)\n",
      "File \u001b[0;34m/opt/miniconda3/lib/python3.8/site-packages/ipywidgets/widgets/widget.py\u001b[0m, in \u001b[0;32m__init__\u001b[0m:\nLine \u001b[0;34m415\u001b[0m:   \u001b[36mself\u001b[39;49;00m.open()\n",
      "File \u001b[0;34m/opt/miniconda3/lib/python3.8/site-packages/ipywidgets/widgets/widget.py\u001b[0m, in \u001b[0;32mopen\u001b[0m:\nLine \u001b[0;34m438\u001b[0m:   \u001b[36mself\u001b[39;49;00m.comm = Comm(**args)\n",
      "\u001b[0;31mRuntimeError\u001b[0m: to_json not implemented for this type of object: datetime.datetime(1900, 1, 1, 0, 0)\n\u001b[0;31m---------------------------------------------------------------------------\u001b[0m"
     ]
    }
   ],
   "source": [
    "map = gis.map(\"Chennai\", zoomlevel=8)\n",
    "map"
   ]
  },
  {
   "cell_type": "code",
   "execution_count": null,
   "id": "0210023b-7abc-4e3e-8503-8daaa6b10366",
   "metadata": {},
   "outputs": [],
   "source": []
  }
 ],
 "metadata": {
  "kernelspec": {
   "display_name": "Python 3.8 (XPython)",
   "language": "python",
   "name": "xpython"
  },
  "language_info": {
   "file_extension": ".py",
   "mimetype": "text/x-python",
   "name": "python",
   "version": "3.8.10"
  }
 },
 "nbformat": 4,
 "nbformat_minor": 5
}
