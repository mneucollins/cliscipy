{
 "cells": [
  {
   "cell_type": "markdown",
   "id": "4999798e-0283-4bae-ba81-db832fdf929a",
   "metadata": {},
   "source": [
    "# Statement of Purpose\n",
    "This group of notebooks is dedicated to an exploration of the application of my burgeoning Data Science skllset to my interest in taking effective action to change the current trajectory of climate change.\n",
    "(CliSciPy perhaps?).\n",
    "\n",
    "Let the journey begin!\n",
    "\n",
    "References/Sources:\n",
    "- https://www.cambridge.org/core/journals/environmental-data-science\n",
    "This seems to have been formed in June 2021 (open for submission), and was the first hit when I started my search for \"data science climate\"\n"
   ]
  },
  {
   "cell_type": "code",
   "execution_count": null,
   "id": "1f8ca9a3-71aa-4471-9168-fe482c97bd07",
   "metadata": {},
   "outputs": [],
   "source": []
  }
 ],
 "metadata": {
  "kernelspec": {
   "display_name": "Python 3.8 (XPython)",
   "language": "python",
   "name": "xpython"
  },
  "language_info": {
   "file_extension": ".py",
   "mimetype": "text/x-python",
   "name": "python",
   "version": "3.8.8"
  }
 },
 "nbformat": 4,
 "nbformat_minor": 5
}
